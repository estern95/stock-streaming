{
 "metadata": {
  "language_info": {
   "codemirror_mode": {
    "name": "ipython",
    "version": 3
   },
   "file_extension": ".py",
   "mimetype": "text/x-python",
   "name": "python",
   "nbconvert_exporter": "python",
   "pygments_lexer": "ipython3",
   "version": "3.9.1-final"
  },
  "orig_nbformat": 2,
  "kernelspec": {
   "name": "python3",
   "display_name": "Python 3",
   "language": "python"
  }
 },
 "nbformat": 4,
 "nbformat_minor": 2,
 "cells": [
  {
   "cell_type": "code",
   "execution_count": 36,
   "metadata": {},
   "outputs": [
    {
     "output_type": "stream",
     "name": "stdout",
     "text": [
      "[2021-02-01 16:16:14,330] INFO Reading configuration from: /usr/local/etc/kafka/zookeeper.properties (org.apache.zookeeper.server.quorum.QuorumPeerConfig)\n",
      "[2021-02-01 16:16:14,341] INFO clientPortAddress is 0.0.0.0:2181 (org.apache.zookeeper.server.quorum.QuorumPeerConfig)\n",
      "[2021-02-01 16:16:14,341] INFO secureClientPort is not set (org.apache.zookeeper.server.quorum.QuorumPeerConfig)\n",
      "[2021-02-01 16:16:14,345] INFO autopurge.snapRetainCount set to 3 (org.apache.zookeeper.server.DatadirCleanupManager)\n",
      "[2021-02-01 16:16:14,345] INFO autopurge.purgeInterval set to 0 (org.apache.zookeeper.server.DatadirCleanupManager)\n",
      "[2021-02-01 16:16:14,345] INFO Purge task is not scheduled. (org.apache.zookeeper.server.DatadirCleanupManager)\n",
      "[2021-02-01 16:16:14,345] WARN Either no config or no quorum defined in config, running  in standalone mode (org.apache.zookeeper.server.quorum.QuorumPeerMain)\n",
      "[2021-02-01 16:16:14,350] INFO Log4j 1.2 jmx support found and enabled. (org.apache.zookeeper.jmx.ManagedUtil)\n",
      "[2021-02-01 16:16:14,364] INFO Reading configuration from: /usr/local/etc/kafka/zookeeper.properties (org.apache.zookeeper.server.quorum.QuorumPeerConfig)\n",
      "[2021-02-01 16:16:14,364] INFO clientPortAddress is 0.0.0.0:2181 (org.apache.zookeeper.server.quorum.QuorumPeerConfig)\n",
      "[2021-02-01 16:16:14,365] INFO secureClientPort is not set (org.apache.zookeeper.server.quorum.QuorumPeerConfig)\n",
      "[2021-02-01 16:16:14,365] INFO Starting server (org.apache.zookeeper.server.ZooKeeperServerMain)\n",
      "[2021-02-01 16:16:14,368] INFO zookeeper.snapshot.trust.empty : false (org.apache.zookeeper.server.persistence.FileTxnSnapLog)\n",
      "[2021-02-01 16:16:14,392] INFO Server environment:zookeeper.version=3.5.8-f439ca583e70862c3068a1f2a7d4d068eec33315, built on 05/04/2020 15:53 GMT (org.apache.zookeeper.server.ZooKeeperServer)\n",
      "[2021-02-01 16:16:14,393] INFO Server environment:host.name=erics-mbp.lan (org.apache.zookeeper.server.ZooKeeperServer)\n",
      "[2021-02-01 16:16:14,393] INFO Server environment:java.version=15.0.1 (org.apache.zookeeper.server.ZooKeeperServer)\n",
      "[2021-02-01 16:16:14,393] INFO Server environment:java.vendor=N/A (org.apache.zookeeper.server.ZooKeeperServer)\n",
      "[2021-02-01 16:16:14,393] INFO Server environment:java.home=/usr/local/Cellar/openjdk/15.0.1/libexec/openjdk.jdk/Contents/Home (org.apache.zookeeper.server.ZooKeeperServer)\n",
      "[2021-02-01 16:16:14,393] INFO Server environment:java.class.path=/usr/local/Cellar/kafka/2.7.0/libexec/bin/../libs/activation-1.1.1.jar:/usr/local/Cellar/kafka/2.7.0/libexec/bin/../libs/aopalliance-repackaged-2.6.1.jar:/usr/local/Cellar/kafka/2.7.0/libexec/bin/../libs/argparse4j-0.7.0.jar:/usr/local/Cellar/kafka/2.7.0/libexec/bin/../libs/audience-annotations-0.5.0.jar:/usr/local/Cellar/kafka/2.7.0/libexec/bin/../libs/commons-cli-1.4.jar:/usr/local/Cellar/kafka/2.7.0/libexec/bin/../libs/commons-lang3-3.8.1.jar:/usr/local/Cellar/kafka/2.7.0/libexec/bin/../libs/connect-api-2.7.0.jar:/usr/local/Cellar/kafka/2.7.0/libexec/bin/../libs/connect-basic-auth-extension-2.7.0.jar:/usr/local/Cellar/kafka/2.7.0/libexec/bin/../libs/connect-file-2.7.0.jar:/usr/local/Cellar/kafka/2.7.0/libexec/bin/../libs/connect-json-2.7.0.jar:/usr/local/Cellar/kafka/2.7.0/libexec/bin/../libs/connect-mirror-2.7.0.jar:/usr/local/Cellar/kafka/2.7.0/libexec/bin/../libs/connect-mirror-client-2.7.0.jar:/usr/local/Cellar/kafka/2.7.0/libexec/bin/../libs/connect-runtime-2.7.0.jar:/usr/local/Cellar/kafka/2.7.0/libexec/bin/../libs/connect-transforms-2.7.0.jar:/usr/local/Cellar/kafka/2.7.0/libexec/bin/../libs/hk2-api-2.6.1.jar:/usr/local/Cellar/kafka/2.7.0/libexec/bin/../libs/hk2-locator-2.6.1.jar:/usr/local/Cellar/kafka/2.7.0/libexec/bin/../libs/hk2-utils-2.6.1.jar:/usr/local/Cellar/kafka/2.7.0/libexec/bin/../libs/jackson-annotations-2.10.5.jar:/usr/local/Cellar/kafka/2.7.0/libexec/bin/../libs/jackson-core-2.10.5.jar:/usr/local/Cellar/kafka/2.7.0/libexec/bin/../libs/jackson-databind-2.10.5.1.jar:/usr/local/Cellar/kafka/2.7.0/libexec/bin/../libs/jackson-dataformat-csv-2.10.5.jar:/usr/local/Cellar/kafka/2.7.0/libexec/bin/../libs/jackson-datatype-jdk8-2.10.5.jar:/usr/local/Cellar/kafka/2.7.0/libexec/bin/../libs/jackson-jaxrs-base-2.10.5.jar:/usr/local/Cellar/kafka/2.7.0/libexec/bin/../libs/jackson-jaxrs-json-provider-2.10.5.jar:/usr/local/Cellar/kafka/2.7.0/libexec/bin/../libs/jackson-module-jaxb-annotations-2.10.5.jar:/usr/local/Cellar/kafka/2.7.0/libexec/bin/../libs/jackson-module-paranamer-2.10.5.jar:/usr/local/Cellar/kafka/2.7.0/libexec/bin/../libs/jackson-module-scala_2.13-2.10.5.jar:/usr/local/Cellar/kafka/2.7.0/libexec/bin/../libs/jakarta.activation-api-1.2.1.jar:/usr/local/Cellar/kafka/2.7.0/libexec/bin/../libs/jakarta.annotation-api-1.3.5.jar:/usr/local/Cellar/kafka/2.7.0/libexec/bin/../libs/jakarta.inject-2.6.1.jar:/usr/local/Cellar/kafka/2.7.0/libexec/bin/../libs/jakarta.validation-api-2.0.2.jar:/usr/local/Cellar/kafka/2.7.0/libexec/bin/../libs/jakarta.ws.rs-api-2.1.6.jar:/usr/local/Cellar/kafka/2.7.0/libexec/bin/../libs/jakarta.xml.bind-api-2.3.2.jar:/usr/local/Cellar/kafka/2.7.0/libexec/bin/../libs/javassist-3.25.0-GA.jar:/usr/local/Cellar/kafka/2.7.0/libexec/bin/../libs/javassist-3.26.0-GA.jar:/usr/local/Cellar/kafka/2.7.0/libexec/bin/../libs/javax.servlet-api-3.1.0.jar:/usr/local/Cellar/kafka/2.7.0/libexec/bin/../libs/javax.ws.rs-api-2.1.1.jar:/usr/local/Cellar/kafka/2.7.0/libexec/bin/../libs/jaxb-api-2.3.0.jar:/usr/local/Cellar/kafka/2.7.0/libexec/bin/../libs/jersey-client-2.31.jar:/usr/local/Cellar/kafka/2.7.0/libexec/bin/../libs/jersey-common-2.31.jar:/usr/local/Cellar/kafka/2.7.0/libexec/bin/../libs/jersey-container-servlet-2.31.jar:/usr/local/Cellar/kafka/2.7.0/libexec/bin/../libs/jersey-container-servlet-core-2.31.jar:/usr/local/Cellar/kafka/2.7.0/libexec/bin/../libs/jersey-hk2-2.31.jar:/usr/local/Cellar/kafka/2.7.0/libexec/bin/../libs/jersey-media-jaxb-2.31.jar:/usr/local/Cellar/kafka/2.7.0/libexec/bin/../libs/jersey-server-2.31.jar:/usr/local/Cellar/kafka/2.7.0/libexec/bin/../libs/jetty-client-9.4.33.v20201020.jar:/usr/local/Cellar/kafka/2.7.0/libexec/bin/../libs/jetty-continuation-9.4.33.v20201020.jar:/usr/local/Cellar/kafka/2.7.0/libexec/bin/../libs/jetty-http-9.4.33.v20201020.jar:/usr/local/Cellar/kafka/2.7.0/libexec/bin/../libs/jetty-io-9.4.33.v20201020.jar:/usr/local/Cellar/kafka/2.7.0/libexec/bin/../libs/jetty-security-9.4.33.v20201020.jar:/usr/local/Cellar/kafka/2.7.0/libexec/bin/../libs/jetty-server-9.4.33.v20201020.jar:/usr/local/Cellar/kafka/2.7.0/libexec/bin/../libs/jetty-servlet-9.4.33.v20201020.jar:/usr/local/Cellar/kafka/2.7.0/libexec/bin/../libs/jetty-servlets-9.4.33.v20201020.jar:/usr/local/Cellar/kafka/2.7.0/libexec/bin/../libs/jetty-util-9.4.33.v20201020.jar:/usr/local/Cellar/kafka/2.7.0/libexec/bin/../libs/jopt-simple-5.0.4.jar:/usr/local/Cellar/kafka/2.7.0/libexec/bin/../libs/kafka-clients-2.7.0.jar:/usr/local/Cellar/kafka/2.7.0/libexec/bin/../libs/kafka-log4j-appender-2.7.0.jar:/usr/local/Cellar/kafka/2.7.0/libexec/bin/../libs/kafka-raft-2.7.0.jar:/usr/local/Cellar/kafka/2.7.0/libexec/bin/../libs/kafka-streams-2.7.0.jar:/usr/local/Cellar/kafka/2.7.0/libexec/bin/../libs/kafka-streams-examples-2.7.0.jar:/usr/local/Cellar/kafka/2.7.0/libexec/bin/../libs/kafka-streams-scala_2.13-2.7.0.jar:/usr/local/Cellar/kafka/2.7.0/libexec/bin/../libs/kafka-streams-test-utils-2.7.0.jar:/usr/local/Cellar/kafka/2.7.0/libexec/bin/../libs/kafka-tools-2.7.0.jar:/usr/local/Cellar/kafka/2.7.0/libexec/bin/../libs/kafka_2.13-2.7.0-sources.jar:/usr/local/Cellar/kafka/2.7.0/libexec/bin/../libs/kafka_2.13-2.7.0.jar:/usr/local/Cellar/kafka/2.7.0/libexec/bin/../libs/log4j-1.2.17.jar:/usr/local/Cellar/kafka/2.7.0/libexec/bin/../libs/lz4-java-1.7.1.jar:/usr/local/Cellar/kafka/2.7.0/libexec/bin/../libs/maven-artifact-3.6.3.jar:/usr/local/Cellar/kafka/2.7.0/libexec/bin/../libs/metrics-core-2.2.0.jar:/usr/local/Cellar/kafka/2.7.0/libexec/bin/../libs/netty-buffer-4.1.51.Final.jar:/usr/local/Cellar/kafka/2.7.0/libexec/bin/../libs/netty-codec-4.1.51.Final.jar:/usr/local/Cellar/kafka/2.7.0/libexec/bin/../libs/netty-common-4.1.51.Final.jar:/usr/local/Cellar/kafka/2.7.0/libexec/bin/../libs/netty-handler-4.1.51.Final.jar:/usr/local/Cellar/kafka/2.7.0/libexec/bin/../libs/netty-resolver-4.1.51.Final.jar:/usr/local/Cellar/kafka/2.7.0/libexec/bin/../libs/netty-transport-4.1.51.Final.jar:/usr/local/Cellar/kafka/2.7.0/libexec/bin/../libs/netty-transport-native-epoll-4.1.51.Final.jar:/usr/local/Cellar/kafka/2.7.0/libexec/bin/../libs/netty-transport-native-unix-common-4.1.51.Final.jar:/usr/local/Cellar/kafka/2.7.0/libexec/bin/../libs/osgi-resource-locator-1.0.3.jar:/usr/local/Cellar/kafka/2.7.0/libexec/bin/../libs/paranamer-2.8.jar:/usr/local/Cellar/kafka/2.7.0/libexec/bin/../libs/plexus-utils-3.2.1.jar:/usr/local/Cellar/kafka/2.7.0/libexec/bin/../libs/reflections-0.9.12.jar:/usr/local/Cellar/kafka/2.7.0/libexec/bin/../libs/rocksdbjni-5.18.4.jar:/usr/local/Cellar/kafka/2.7.0/libexec/bin/../libs/scala-collection-compat_2.13-2.2.0.jar:/usr/local/Cellar/kafka/2.7.0/libexec/bin/../libs/scala-java8-compat_2.13-0.9.1.jar:/usr/local/Cellar/kafka/2.7.0/libexec/bin/../libs/scala-library-2.13.3.jar:/usr/local/Cellar/kafka/2.7.0/libexec/bin/../libs/scala-logging_2.13-3.9.2.jar:/usr/local/Cellar/kafka/2.7.0/libexec/bin/../libs/scala-reflect-2.13.3.jar:/usr/local/Cellar/kafka/2.7.0/libexec/bin/../libs/slf4j-api-1.7.30.jar:/usr/local/Cellar/kafka/2.7.0/libexec/bin/../libs/slf4j-log4j12-1.7.30.jar:/usr/local/Cellar/kafka/2.7.0/libexec/bin/../libs/snappy-java-1.1.7.7.jar:/usr/local/Cellar/kafka/2.7.0/libexec/bin/../libs/zookeeper-3.5.8.jar:/usr/local/Cellar/kafka/2.7.0/libexec/bin/../libs/zookeeper-jute-3.5.8.jar:/usr/local/Cellar/kafka/2.7.0/libexec/bin/../libs/zstd-jni-1.4.5-6.jar (org.apache.zookeeper.server.ZooKeeperServer)\n",
      "[2021-02-01 16:16:14,395] INFO Server environment:java.library.path=/Users/ericstern/Library/Java/Extensions:/Library/Java/Extensions:/Network/Library/Java/Extensions:/System/Library/Java/Extensions:/usr/lib/java:. (org.apache.zookeeper.server.ZooKeeperServer)\n",
      "[2021-02-01 16:16:14,395] INFO Server environment:java.io.tmpdir=/var/folders/m2/9l744_5x2cl4w4t3rmp9xk5c0000gn/T/ (org.apache.zookeeper.server.ZooKeeperServer)\n",
      "[2021-02-01 16:16:14,395] INFO Server environment:java.compiler=<NA> (org.apache.zookeeper.server.ZooKeeperServer)\n",
      "[2021-02-01 16:16:14,395] INFO Server environment:os.name=Mac OS X (org.apache.zookeeper.server.ZooKeeperServer)\n",
      "[2021-02-01 16:16:14,395] INFO Server environment:os.arch=x86_64 (org.apache.zookeeper.server.ZooKeeperServer)\n",
      "[2021-02-01 16:16:14,395] INFO Server environment:os.version=10.15.7 (org.apache.zookeeper.server.ZooKeeperServer)\n",
      "[2021-02-01 16:16:14,395] INFO Server environment:user.name=ericstern (org.apache.zookeeper.server.ZooKeeperServer)\n",
      "[2021-02-01 16:16:14,395] INFO Server environment:user.home=/Users/ericstern (org.apache.zookeeper.server.ZooKeeperServer)\n",
      "[2021-02-01 16:16:14,395] INFO Server environment:user.dir=/Users/ericstern/Documents/GitHub/stock-streaming/notebooks (org.apache.zookeeper.server.ZooKeeperServer)\n",
      "[2021-02-01 16:16:14,395] INFO Server environment:os.memory.free=497MB (org.apache.zookeeper.server.ZooKeeperServer)\n",
      "[2021-02-01 16:16:14,395] INFO Server environment:os.memory.max=512MB (org.apache.zookeeper.server.ZooKeeperServer)\n",
      "[2021-02-01 16:16:14,395] INFO Server environment:os.memory.total=512MB (org.apache.zookeeper.server.ZooKeeperServer)\n",
      "[2021-02-01 16:16:14,398] INFO minSessionTimeout set to 6000 (org.apache.zookeeper.server.ZooKeeperServer)\n",
      "[2021-02-01 16:16:14,398] INFO maxSessionTimeout set to 60000 (org.apache.zookeeper.server.ZooKeeperServer)\n",
      "[2021-02-01 16:16:14,398] INFO Created server with tickTime 3000 minSessionTimeout 6000 maxSessionTimeout 60000 datadir /usr/local/var/lib/zookeeper/version-2 snapdir /usr/local/var/lib/zookeeper/version-2 (org.apache.zookeeper.server.ZooKeeperServer)\n",
      "[2021-02-01 16:16:14,422] INFO Using org.apache.zookeeper.server.NIOServerCnxnFactory as server connection factory (org.apache.zookeeper.server.ServerCnxnFactory)\n",
      "[2021-02-01 16:16:14,428] INFO Configuring NIO connection handler with 10s sessionless connection timeout, 2 selector thread(s), 16 worker threads, and 64 kB direct buffers. (org.apache.zookeeper.server.NIOServerCnxnFactory)\n",
      "[2021-02-01 16:16:14,435] INFO binding to port 0.0.0.0/0.0.0.0:2181 (org.apache.zookeeper.server.NIOServerCnxnFactory)\n",
      "[2021-02-01 16:16:14,452] INFO zookeeper.snapshotSizeFactor = 0.33 (org.apache.zookeeper.server.ZKDatabase)\n",
      "[2021-02-01 16:16:14,455] INFO Reading snapshot /usr/local/var/lib/zookeeper/version-2/snapshot.0 (org.apache.zookeeper.server.persistence.FileSnap)\n",
      "[2021-02-01 16:16:14,499] INFO Snapshotting: 0x9f to /usr/local/var/lib/zookeeper/version-2/snapshot.9f (org.apache.zookeeper.server.persistence.FileTxnSnapLog)\n",
      "[2021-02-01 16:16:14,530] INFO Using checkIntervalMs=60000 maxPerMinute=10000 (org.apache.zookeeper.server.ContainerManager)\n",
      "[2021-02-01 16:16:33,570] INFO Expiring session 0x10000ec6f1c0000, timeout of 18000ms exceeded (org.apache.zookeeper.server.ZooKeeperServer)\n",
      "[2021-02-01 16:16:33,572] INFO Creating new log file: log.a0 (org.apache.zookeeper.server.persistence.FileTxnLog)\n",
      "^C\n"
     ]
    },
    {
     "output_type": "error",
     "ename": "KeyboardInterrupt",
     "evalue": "",
     "traceback": [
      "\u001b[0;31m---------------------------------------------------------------------------\u001b[0m",
      "\u001b[0;31mKeyboardInterrupt\u001b[0m                         Traceback (most recent call last)",
      "\u001b[0;32m/usr/local/lib/python3.9/site-packages/IPython/utils/_process_posix.py\u001b[0m in \u001b[0;36msystem\u001b[0;34m(self, cmd)\u001b[0m\n\u001b[1;32m    161\u001b[0m                 \u001b[0;31m# know whether we've finished (if we matched EOF) or not\u001b[0m\u001b[0;34m\u001b[0m\u001b[0;34m\u001b[0m\u001b[0;34m\u001b[0m\u001b[0m\n\u001b[0;32m--> 162\u001b[0;31m                 \u001b[0mres_idx\u001b[0m \u001b[0;34m=\u001b[0m \u001b[0mchild\u001b[0m\u001b[0;34m.\u001b[0m\u001b[0mexpect_list\u001b[0m\u001b[0;34m(\u001b[0m\u001b[0mpatterns\u001b[0m\u001b[0;34m,\u001b[0m \u001b[0mself\u001b[0m\u001b[0;34m.\u001b[0m\u001b[0mread_timeout\u001b[0m\u001b[0;34m)\u001b[0m\u001b[0;34m\u001b[0m\u001b[0;34m\u001b[0m\u001b[0m\n\u001b[0m\u001b[1;32m    163\u001b[0m                 \u001b[0mprint\u001b[0m\u001b[0;34m(\u001b[0m\u001b[0mchild\u001b[0m\u001b[0;34m.\u001b[0m\u001b[0mbefore\u001b[0m\u001b[0;34m[\u001b[0m\u001b[0mout_size\u001b[0m\u001b[0;34m:\u001b[0m\u001b[0;34m]\u001b[0m\u001b[0;34m.\u001b[0m\u001b[0mdecode\u001b[0m\u001b[0;34m(\u001b[0m\u001b[0menc\u001b[0m\u001b[0;34m,\u001b[0m \u001b[0;34m'replace'\u001b[0m\u001b[0;34m)\u001b[0m\u001b[0;34m,\u001b[0m \u001b[0mend\u001b[0m\u001b[0;34m=\u001b[0m\u001b[0;34m''\u001b[0m\u001b[0;34m)\u001b[0m\u001b[0;34m\u001b[0m\u001b[0;34m\u001b[0m\u001b[0m\n",
      "\u001b[0;32m/usr/local/lib/python3.9/site-packages/pexpect/spawnbase.py\u001b[0m in \u001b[0;36mexpect_list\u001b[0;34m(self, pattern_list, timeout, searchwindowsize, async_, **kw)\u001b[0m\n\u001b[1;32m    371\u001b[0m         \u001b[0;32melse\u001b[0m\u001b[0;34m:\u001b[0m\u001b[0;34m\u001b[0m\u001b[0;34m\u001b[0m\u001b[0m\n\u001b[0;32m--> 372\u001b[0;31m             \u001b[0;32mreturn\u001b[0m \u001b[0mexp\u001b[0m\u001b[0;34m.\u001b[0m\u001b[0mexpect_loop\u001b[0m\u001b[0;34m(\u001b[0m\u001b[0mtimeout\u001b[0m\u001b[0;34m)\u001b[0m\u001b[0;34m\u001b[0m\u001b[0;34m\u001b[0m\u001b[0m\n\u001b[0m\u001b[1;32m    373\u001b[0m \u001b[0;34m\u001b[0m\u001b[0m\n",
      "\u001b[0;32m/usr/local/lib/python3.9/site-packages/pexpect/expect.py\u001b[0m in \u001b[0;36mexpect_loop\u001b[0;34m(self, timeout)\u001b[0m\n\u001b[1;32m    168\u001b[0m                 \u001b[0;31m# Still have time left, so read more data\u001b[0m\u001b[0;34m\u001b[0m\u001b[0;34m\u001b[0m\u001b[0;34m\u001b[0m\u001b[0m\n\u001b[0;32m--> 169\u001b[0;31m                 \u001b[0mincoming\u001b[0m \u001b[0;34m=\u001b[0m \u001b[0mspawn\u001b[0m\u001b[0;34m.\u001b[0m\u001b[0mread_nonblocking\u001b[0m\u001b[0;34m(\u001b[0m\u001b[0mspawn\u001b[0m\u001b[0;34m.\u001b[0m\u001b[0mmaxread\u001b[0m\u001b[0;34m,\u001b[0m \u001b[0mtimeout\u001b[0m\u001b[0;34m)\u001b[0m\u001b[0;34m\u001b[0m\u001b[0;34m\u001b[0m\u001b[0m\n\u001b[0m\u001b[1;32m    170\u001b[0m                 \u001b[0;32mif\u001b[0m \u001b[0mself\u001b[0m\u001b[0;34m.\u001b[0m\u001b[0mspawn\u001b[0m\u001b[0;34m.\u001b[0m\u001b[0mdelayafterread\u001b[0m \u001b[0;32mis\u001b[0m \u001b[0;32mnot\u001b[0m \u001b[0;32mNone\u001b[0m\u001b[0;34m:\u001b[0m\u001b[0;34m\u001b[0m\u001b[0;34m\u001b[0m\u001b[0m\n",
      "\u001b[0;32m/usr/local/lib/python3.9/site-packages/pexpect/pty_spawn.py\u001b[0m in \u001b[0;36mread_nonblocking\u001b[0;34m(self, size, timeout)\u001b[0m\n\u001b[1;32m    499\u001b[0m         \u001b[0;31m# (possibly timeout=None), we call select() with a timeout.\u001b[0m\u001b[0;34m\u001b[0m\u001b[0;34m\u001b[0m\u001b[0;34m\u001b[0m\u001b[0m\n\u001b[0;32m--> 500\u001b[0;31m         \u001b[0;32mif\u001b[0m \u001b[0;34m(\u001b[0m\u001b[0mtimeout\u001b[0m \u001b[0;34m!=\u001b[0m \u001b[0;36m0\u001b[0m\u001b[0;34m)\u001b[0m \u001b[0;32mand\u001b[0m \u001b[0mselect\u001b[0m\u001b[0;34m(\u001b[0m\u001b[0mtimeout\u001b[0m\u001b[0;34m)\u001b[0m\u001b[0;34m:\u001b[0m\u001b[0;34m\u001b[0m\u001b[0;34m\u001b[0m\u001b[0m\n\u001b[0m\u001b[1;32m    501\u001b[0m             \u001b[0;32mreturn\u001b[0m \u001b[0msuper\u001b[0m\u001b[0;34m(\u001b[0m\u001b[0mspawn\u001b[0m\u001b[0;34m,\u001b[0m \u001b[0mself\u001b[0m\u001b[0;34m)\u001b[0m\u001b[0;34m.\u001b[0m\u001b[0mread_nonblocking\u001b[0m\u001b[0;34m(\u001b[0m\u001b[0msize\u001b[0m\u001b[0;34m)\u001b[0m\u001b[0;34m\u001b[0m\u001b[0;34m\u001b[0m\u001b[0m\n",
      "\u001b[0;32m/usr/local/lib/python3.9/site-packages/pexpect/pty_spawn.py\u001b[0m in \u001b[0;36mselect\u001b[0;34m(timeout)\u001b[0m\n\u001b[1;32m    449\u001b[0m             \u001b[0;32mdef\u001b[0m \u001b[0mselect\u001b[0m\u001b[0;34m(\u001b[0m\u001b[0mtimeout\u001b[0m\u001b[0;34m)\u001b[0m\u001b[0;34m:\u001b[0m\u001b[0;34m\u001b[0m\u001b[0;34m\u001b[0m\u001b[0m\n\u001b[0;32m--> 450\u001b[0;31m                 \u001b[0;32mreturn\u001b[0m \u001b[0mselect_ignore_interrupts\u001b[0m\u001b[0;34m(\u001b[0m\u001b[0;34m[\u001b[0m\u001b[0mself\u001b[0m\u001b[0;34m.\u001b[0m\u001b[0mchild_fd\u001b[0m\u001b[0;34m]\u001b[0m\u001b[0;34m,\u001b[0m \u001b[0;34m[\u001b[0m\u001b[0;34m]\u001b[0m\u001b[0;34m,\u001b[0m \u001b[0;34m[\u001b[0m\u001b[0;34m]\u001b[0m\u001b[0;34m,\u001b[0m \u001b[0mtimeout\u001b[0m\u001b[0;34m)\u001b[0m\u001b[0;34m[\u001b[0m\u001b[0;36m0\u001b[0m\u001b[0;34m]\u001b[0m\u001b[0;34m\u001b[0m\u001b[0;34m\u001b[0m\u001b[0m\n\u001b[0m\u001b[1;32m    451\u001b[0m \u001b[0;34m\u001b[0m\u001b[0m\n",
      "\u001b[0;32m/usr/local/lib/python3.9/site-packages/pexpect/utils.py\u001b[0m in \u001b[0;36mselect_ignore_interrupts\u001b[0;34m(iwtd, owtd, ewtd, timeout)\u001b[0m\n\u001b[1;32m    142\u001b[0m         \u001b[0;32mtry\u001b[0m\u001b[0;34m:\u001b[0m\u001b[0;34m\u001b[0m\u001b[0;34m\u001b[0m\u001b[0m\n\u001b[0;32m--> 143\u001b[0;31m             \u001b[0;32mreturn\u001b[0m \u001b[0mselect\u001b[0m\u001b[0;34m.\u001b[0m\u001b[0mselect\u001b[0m\u001b[0;34m(\u001b[0m\u001b[0miwtd\u001b[0m\u001b[0;34m,\u001b[0m \u001b[0mowtd\u001b[0m\u001b[0;34m,\u001b[0m \u001b[0mewtd\u001b[0m\u001b[0;34m,\u001b[0m \u001b[0mtimeout\u001b[0m\u001b[0;34m)\u001b[0m\u001b[0;34m\u001b[0m\u001b[0;34m\u001b[0m\u001b[0m\n\u001b[0m\u001b[1;32m    144\u001b[0m         \u001b[0;32mexcept\u001b[0m \u001b[0mInterruptedError\u001b[0m\u001b[0;34m:\u001b[0m\u001b[0;34m\u001b[0m\u001b[0;34m\u001b[0m\u001b[0m\n",
      "\u001b[0;31mKeyboardInterrupt\u001b[0m: ",
      "\nDuring handling of the above exception, another exception occurred:\n",
      "\u001b[0;31mKeyboardInterrupt\u001b[0m                         Traceback (most recent call last)",
      "\u001b[0;32m<ipython-input-36-fcfcf22e683e>\u001b[0m in \u001b[0;36m<module>\u001b[0;34m\u001b[0m\n\u001b[1;32m      1\u001b[0m \u001b[0;31m# Start Kafka Server\u001b[0m\u001b[0;34m\u001b[0m\u001b[0;34m\u001b[0m\u001b[0;34m\u001b[0m\u001b[0m\n\u001b[0;32m----> 2\u001b[0;31m \u001b[0mget_ipython\u001b[0m\u001b[0;34m(\u001b[0m\u001b[0;34m)\u001b[0m\u001b[0;34m.\u001b[0m\u001b[0msystem\u001b[0m\u001b[0;34m(\u001b[0m\u001b[0;34m' zookeeper-server-start /usr/local/etc/kafka/zookeeper.properties'\u001b[0m\u001b[0;34m)\u001b[0m\u001b[0;34m\u001b[0m\u001b[0;34m\u001b[0m\u001b[0m\n\u001b[0m\u001b[1;32m      3\u001b[0m \u001b[0mget_ipython\u001b[0m\u001b[0;34m(\u001b[0m\u001b[0;34m)\u001b[0m\u001b[0;34m.\u001b[0m\u001b[0msystem\u001b[0m\u001b[0;34m(\u001b[0m\u001b[0;34m' kafka-server-start /usr/local/etc/kafka/server.properties'\u001b[0m\u001b[0;34m)\u001b[0m\u001b[0;34m\u001b[0m\u001b[0;34m\u001b[0m\u001b[0m\n",
      "\u001b[0;32m/usr/local/lib/python3.9/site-packages/ipykernel/zmqshell.py\u001b[0m in \u001b[0;36msystem_piped\u001b[0;34m(self, cmd)\u001b[0m\n\u001b[1;32m    636\u001b[0m                 \u001b[0mself\u001b[0m\u001b[0;34m.\u001b[0m\u001b[0muser_ns\u001b[0m\u001b[0;34m[\u001b[0m\u001b[0;34m'_exit_code'\u001b[0m\u001b[0;34m]\u001b[0m \u001b[0;34m=\u001b[0m \u001b[0msystem\u001b[0m\u001b[0;34m(\u001b[0m\u001b[0mcmd\u001b[0m\u001b[0;34m)\u001b[0m\u001b[0;34m\u001b[0m\u001b[0;34m\u001b[0m\u001b[0m\n\u001b[1;32m    637\u001b[0m         \u001b[0;32melse\u001b[0m\u001b[0;34m:\u001b[0m\u001b[0;34m\u001b[0m\u001b[0;34m\u001b[0m\u001b[0m\n\u001b[0;32m--> 638\u001b[0;31m             \u001b[0mself\u001b[0m\u001b[0;34m.\u001b[0m\u001b[0muser_ns\u001b[0m\u001b[0;34m[\u001b[0m\u001b[0;34m'_exit_code'\u001b[0m\u001b[0;34m]\u001b[0m \u001b[0;34m=\u001b[0m \u001b[0msystem\u001b[0m\u001b[0;34m(\u001b[0m\u001b[0mself\u001b[0m\u001b[0;34m.\u001b[0m\u001b[0mvar_expand\u001b[0m\u001b[0;34m(\u001b[0m\u001b[0mcmd\u001b[0m\u001b[0;34m,\u001b[0m \u001b[0mdepth\u001b[0m\u001b[0;34m=\u001b[0m\u001b[0;36m1\u001b[0m\u001b[0;34m)\u001b[0m\u001b[0;34m)\u001b[0m\u001b[0;34m\u001b[0m\u001b[0;34m\u001b[0m\u001b[0m\n\u001b[0m\u001b[1;32m    639\u001b[0m \u001b[0;34m\u001b[0m\u001b[0m\n\u001b[1;32m    640\u001b[0m     \u001b[0;31m# Ensure new system_piped implementation is used\u001b[0m\u001b[0;34m\u001b[0m\u001b[0;34m\u001b[0m\u001b[0;34m\u001b[0m\u001b[0m\n",
      "\u001b[0;32m/usr/local/lib/python3.9/site-packages/IPython/utils/_process_posix.py\u001b[0m in \u001b[0;36msystem\u001b[0;34m(self, cmd)\u001b[0m\n\u001b[1;32m    184\u001b[0m             \u001b[0;32mfinally\u001b[0m\u001b[0;34m:\u001b[0m\u001b[0;34m\u001b[0m\u001b[0;34m\u001b[0m\u001b[0m\n\u001b[1;32m    185\u001b[0m                 \u001b[0;31m# Ensure the subprocess really is terminated\u001b[0m\u001b[0;34m\u001b[0m\u001b[0;34m\u001b[0m\u001b[0;34m\u001b[0m\u001b[0m\n\u001b[0;32m--> 186\u001b[0;31m                 \u001b[0mchild\u001b[0m\u001b[0;34m.\u001b[0m\u001b[0mterminate\u001b[0m\u001b[0;34m(\u001b[0m\u001b[0mforce\u001b[0m\u001b[0;34m=\u001b[0m\u001b[0;32mTrue\u001b[0m\u001b[0;34m)\u001b[0m\u001b[0;34m\u001b[0m\u001b[0;34m\u001b[0m\u001b[0m\n\u001b[0m\u001b[1;32m    187\u001b[0m         \u001b[0;31m# add isalive check, to ensure exitstatus is set:\u001b[0m\u001b[0;34m\u001b[0m\u001b[0;34m\u001b[0m\u001b[0;34m\u001b[0m\u001b[0m\n\u001b[1;32m    188\u001b[0m         \u001b[0mchild\u001b[0m\u001b[0;34m.\u001b[0m\u001b[0misalive\u001b[0m\u001b[0;34m(\u001b[0m\u001b[0;34m)\u001b[0m\u001b[0;34m\u001b[0m\u001b[0;34m\u001b[0m\u001b[0m\n",
      "\u001b[0;32m/usr/local/lib/python3.9/site-packages/pexpect/pty_spawn.py\u001b[0m in \u001b[0;36mterminate\u001b[0;34m(self, force)\u001b[0m\n\u001b[1;32m    644\u001b[0m                 \u001b[0;32mreturn\u001b[0m \u001b[0;32mTrue\u001b[0m\u001b[0;34m\u001b[0m\u001b[0;34m\u001b[0m\u001b[0m\n\u001b[1;32m    645\u001b[0m             \u001b[0mself\u001b[0m\u001b[0;34m.\u001b[0m\u001b[0mkill\u001b[0m\u001b[0;34m(\u001b[0m\u001b[0msignal\u001b[0m\u001b[0;34m.\u001b[0m\u001b[0mSIGCONT\u001b[0m\u001b[0;34m)\u001b[0m\u001b[0;34m\u001b[0m\u001b[0;34m\u001b[0m\u001b[0m\n\u001b[0;32m--> 646\u001b[0;31m             \u001b[0mtime\u001b[0m\u001b[0;34m.\u001b[0m\u001b[0msleep\u001b[0m\u001b[0;34m(\u001b[0m\u001b[0mself\u001b[0m\u001b[0;34m.\u001b[0m\u001b[0mdelayafterterminate\u001b[0m\u001b[0;34m)\u001b[0m\u001b[0;34m\u001b[0m\u001b[0;34m\u001b[0m\u001b[0m\n\u001b[0m\u001b[1;32m    647\u001b[0m             \u001b[0;32mif\u001b[0m \u001b[0;32mnot\u001b[0m \u001b[0mself\u001b[0m\u001b[0;34m.\u001b[0m\u001b[0misalive\u001b[0m\u001b[0;34m(\u001b[0m\u001b[0;34m)\u001b[0m\u001b[0;34m:\u001b[0m\u001b[0;34m\u001b[0m\u001b[0;34m\u001b[0m\u001b[0m\n\u001b[1;32m    648\u001b[0m                 \u001b[0;32mreturn\u001b[0m \u001b[0;32mTrue\u001b[0m\u001b[0;34m\u001b[0m\u001b[0;34m\u001b[0m\u001b[0m\n",
      "\u001b[0;31mKeyboardInterrupt\u001b[0m: "
     ]
    }
   ],
   "source": [
    "# Start Zookerp and Kafka Server (Each has to run in a seperate terminal)\n",
    "#! zookeeper-server-start /usr/local/etc/kafka/zookeeper.properties\n",
    "#! kafka-server-start /usr/local/etc/kafka/server.properties"
   ]
  },
  {
   "cell_type": "code",
   "execution_count": 48,
   "metadata": {},
   "outputs": [],
   "source": [
    "\n",
    "from __future__ import unicode_literals\n",
    "import json\n",
    "from time import sleep\n",
    "\n",
    "from bs4 import BeautifulSoup\n",
    "from kafka import KafkaConsumer, KafkaProducer\n",
    "import requests\n",
    "\n",
    "# -*- coding: utf-8 -*-\n",
    "calls_class = 'calls W(100%) Pos(r) Bd(0) Pt(0) list-options'\n",
    "puts_class = 'puts W(100%) Pos(r) list-options'\n",
    "headers = {\n",
    "    'User-Agent': 'Mozilla/5.0 (Macintosh; Intel Mac OS X 10_11_6) AppleWebKit/537.36 (KHTML, like Gecko) Chrome/66.0.3359.181 Safari/537.36',\n",
    "    'Pragma': 'no-cache'\n",
    "    }\n",
    "\n",
    "        \n",
    "def get_trades(class_,\n",
    "               base_url = 'https://finance.yahoo.com/quote/TSLA/options?straddle=false'):\n",
    "    url = base_url\n",
    "    print('Accessing list')\n",
    "\n",
    "    try:\n",
    "        r = requests.get(url, headers=headers)\n",
    "        if r.status_code == 200:\n",
    "            html = r.text\n",
    "            soup = BeautifulSoup(html, 'html.parser')\n",
    "            table = soup.find_all('table', class_ = class_)[0] # Grab the first table\n",
    "    except Exception as ex:\n",
    "        print('Exception in get_trades')\n",
    "        print(str(ex))\n",
    "    finally:\n",
    "        return table\n",
    "\n",
    "def publish_message(producer_instance, topic_name, key, value):\n",
    "    try:\n",
    "        #print(key)\n",
    "        #print(value)\n",
    "        key_bytes =  bytes(key, encoding='utf-8')   #.encode('utf-8')\n",
    "        value_bytes = bytes(value, encoding='utf-8') #encode('utf-8')\n",
    "        \n",
    "        producer_instance.send(topic_name, key=key_bytes, value=value_bytes)\n",
    "        producer_instance.flush()\n",
    "        print('Message published successfully.')\n",
    "    except Exception as ex:\n",
    "        print('Exception in publishing message')\n",
    "        print(str(ex))\n",
    "\n",
    "def connect_kafka_producer(server_address = ['localhost:9092']):\n",
    "    _producer = None\n",
    "    try:\n",
    "        _producer = KafkaProducer(bootstrap_servers = server_address, api_version=(0, 10))\n",
    "    except Exception as ex:\n",
    "        print('Exception while connecting Kafka')\n",
    "        print(str(ex))\n",
    "    finally:\n",
    "        return _producer\n",
    "\n"
   ]
  },
  {
   "source": [
    "## Scrape Calls"
   ],
   "cell_type": "markdown",
   "metadata": {}
  },
  {
   "cell_type": "code",
   "execution_count": 47,
   "metadata": {},
   "outputs": [
    {
     "output_type": "stream",
     "name": "stdout",
     "text": [
      "Accessing list\n",
      "Message published successfully.\n"
     ]
    }
   ],
   "source": [
    "\n",
    "calls = get_trades(class_ = calls_class)\n",
    "\n",
    "kafka_producer = connect_kafka_producer()\n",
    "publish_message(kafka_producer, 'TSLA_calls', 'raw', str(calls))\n",
    "kafka_producer.close()"
   ]
  },
  {
   "source": [
    "## Scrape Puts"
   ],
   "cell_type": "markdown",
   "metadata": {}
  },
  {
   "cell_type": "code",
   "execution_count": 50,
   "metadata": {},
   "outputs": [
    {
     "output_type": "stream",
     "name": "stdout",
     "text": [
      "Accessing list\n",
      "Message published successfully.\n"
     ]
    }
   ],
   "source": [
    "puts = get_trades(class_ = puts_class)\n",
    "\n",
    "kafka_producer = connect_kafka_producer()\n",
    "publish_message(kafka_producer, 'TSLA_puts', 'raw', str(puts))\n",
    "kafka_producer.close()"
   ]
  },
  {
   "source": [
    "## Production Gist\n",
    "\n",
    "This page is refreshed continuously, so the best way to track is to scrape the data continuously. We can deduplicate once the data data is in Spark (I think). "
   ],
   "cell_type": "markdown",
   "metadata": {}
  },
  {
   "cell_type": "code",
   "execution_count": 51,
   "metadata": {},
   "outputs": [
    {
     "output_type": "stream",
     "name": "stdout",
     "text": [
      "Scraping...\n",
      "Accessing list\n",
      "Message published successfully.\n",
      "Accessing list\n",
      "Message published successfully.\n",
      "Scraping...\n",
      "Accessing list\n",
      "Message published successfully.\n",
      "Accessing list\n",
      "Message published successfully.\n",
      "Scraping...\n",
      "Accessing list\n",
      "Message published successfully.\n",
      "Accessing list\n",
      "Message published successfully.\n",
      "Scraping...\n",
      "Accessing list\n",
      "Message published successfully.\n",
      "Accessing list\n",
      "Message published successfully.\n",
      "Scraping...\n",
      "Accessing list\n",
      "Message published successfully.\n",
      "Accessing list\n",
      "Message published successfully.\n",
      "Scraping...\n",
      "Accessing list\n",
      "Message published successfully.\n",
      "Accessing list\n",
      "Message published successfully.\n",
      "Scraping...\n",
      "Accessing list\n",
      "Message published successfully.\n",
      "Accessing list\n",
      "Message published successfully.\n",
      "Scraping...\n",
      "Accessing list\n",
      "Message published successfully.\n",
      "Accessing list\n",
      "Message published successfully.\n",
      "Scraping...\n",
      "Accessing list\n",
      "Message published successfully.\n",
      "Accessing list\n",
      "Message published successfully.\n",
      "Scraping...\n",
      "Accessing list\n",
      "Message published successfully.\n",
      "Accessing list\n",
      "Message published successfully.\n",
      "Scraping...\n"
     ]
    }
   ],
   "source": [
    "ix = 0\n",
    "\n",
    "while True:\n",
    "    print('Scraping...')\n",
    "    if ix == 10:\n",
    "        print('Exiting')\n",
    "        break\n",
    "    calls = get_trades(class_ = calls_class)\n",
    "    kafka_producer = connect_kafka_producer()\n",
    "    publish_message(kafka_producer, 'TSLA_calls', 'raw', str(calls))\n",
    "    kafka_producer.close()\n",
    "\n",
    "    puts = get_trades(class_ = puts_class)\n",
    "    kafka_producer = connect_kafka_producer()\n",
    "    publish_message(kafka_producer, 'TSLA_puts', 'raw', str(puts))\n",
    "    kafka_producer.close()\n",
    "    ix += 1\n",
    "    sleep(10)\n",
    "    "
   ]
  },
  {
   "cell_type": "code",
   "execution_count": null,
   "metadata": {},
   "outputs": [],
   "source": []
  }
 ]
}